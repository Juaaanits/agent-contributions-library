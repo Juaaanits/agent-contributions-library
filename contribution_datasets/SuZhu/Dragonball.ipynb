{
 "cells": [
  {
   "cell_type": "code",
   "execution_count": 3,
   "metadata": {},
   "outputs": [
    {
     "name": "stdout",
     "output_type": "stream",
     "text": [
      "Data saved to dragonball_super_sentiment.csv\n"
     ]
    }
   ],
   "source": [
    "import requests\n",
    "from bs4 import BeautifulSoup\n",
    "import pandas as pd\n",
    "from textblob import TextBlob\n",
    "\n",
    "# Base URL and headers\n",
    "base_url = \"https://dragonball.fandom.com/wiki/Dragon_Ball_Super_(anime)\"\n",
    "headers = {\"User-Agent\": \"Mozilla/5.0\"}\n",
    "\n",
    "# Data storage\n",
    "data = []\n",
    "\n",
    "# Function to scrape a single page\n",
    "def get_page(url):\n",
    "    response = requests.get(url, headers=headers)\n",
    "    soup = BeautifulSoup(response.content, \"html.parser\")\n",
    "    return soup\n",
    "\n",
    "# Function to extract data from the page\n",
    "def extract_data(soup):\n",
    "    # Example: Extract paragraph text\n",
    "    paragraphs = soup.find_all(\"p\")\n",
    "    \n",
    "    # Extracting and cleaning data\n",
    "    for para in paragraphs:\n",
    "        text = para.get_text(strip=True)\n",
    "        if text:  # Skip empty paragraphs\n",
    "            # Perform sentiment analysis\n",
    "            sentiment = TextBlob(text).sentiment.polarity\n",
    "            data.append({\"text\": text, \"sentiment\": sentiment})\n",
    "\n",
    "# Function to find the next page (if any)\n",
    "def find_next_page(soup):\n",
    "    # Since the Dragon Ball Super page might not have pagination, this is just a placeholder\n",
    "    # If there are pagination buttons on the website, they would be handled here.\n",
    "    next_link = soup.find(\"a\", {\"class\": \"next-page\"})\n",
    "    if next_link:\n",
    "        return next_link[\"href\"]\n",
    "    return None\n",
    "\n",
    "# Scrape and process data from multiple pages\n",
    "page_url = base_url\n",
    "while page_url:\n",
    "    soup = get_page(page_url)\n",
    "    extract_data(soup)\n",
    "    next_page = find_next_page(soup)\n",
    "    if next_page:\n",
    "        page_url = next_page\n",
    "    else:\n",
    "        break\n",
    "\n",
    "# Convert to DataFrame and save as CSV\n",
    "df = pd.DataFrame(data)\n",
    "df.to_csv(\"dragonball_super_sentiment.csv\", index=False)\n",
    "\n",
    "print(\"Data saved to dragonball_super_sentiment.csv\")"
   ]
  }
 ],
 "metadata": {
  "kernelspec": {
   "display_name": "Python 3",
   "language": "python",
   "name": "python3"
  },
  "language_info": {
   "codemirror_mode": {
    "name": "ipython",
    "version": 3
   },
   "file_extension": ".py",
   "mimetype": "text/x-python",
   "name": "python",
   "nbconvert_exporter": "python",
   "pygments_lexer": "ipython3",
   "version": "3.12.4"
  }
 },
 "nbformat": 4,
 "nbformat_minor": 2
}
